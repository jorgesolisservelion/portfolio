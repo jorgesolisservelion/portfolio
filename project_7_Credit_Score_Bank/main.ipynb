{
 "cells": [
  {
   "cell_type": "code",
   "execution_count": 1,
   "metadata": {},
   "outputs": [],
   "source": [
    "import pandas as pd\n",
    "import matplotlib.pyplot as plt\n"
   ]
  },
  {
   "cell_type": "code",
   "execution_count": 2,
   "metadata": {},
   "outputs": [
    {
     "data": {
      "text/html": [
       "<div>\n",
       "<style scoped>\n",
       "    .dataframe tbody tr th:only-of-type {\n",
       "        vertical-align: middle;\n",
       "    }\n",
       "\n",
       "    .dataframe tbody tr th {\n",
       "        vertical-align: top;\n",
       "    }\n",
       "\n",
       "    .dataframe thead th {\n",
       "        text-align: right;\n",
       "    }\n",
       "</style>\n",
       "<table border=\"1\" class=\"dataframe\">\n",
       "  <thead>\n",
       "    <tr style=\"text-align: right;\">\n",
       "      <th></th>\n",
       "      <th>rating</th>\n",
       "      <th>text</th>\n",
       "      <th>date</th>\n",
       "    </tr>\n",
       "  </thead>\n",
       "  <tbody>\n",
       "    <tr>\n",
       "      <th>0</th>\n",
       "      <td>1</td>\n",
       "      <td>AirBnB is a horrible, untrustworthy service. T...</td>\n",
       "      <td>2024-11-04T02:50:46.000Z</td>\n",
       "    </tr>\n",
       "    <tr>\n",
       "      <th>1</th>\n",
       "      <td>1</td>\n",
       "      <td>We rented a beautiful villa in Ostuni Italy ad...</td>\n",
       "      <td>2024-11-04T05:34:12.000Z</td>\n",
       "    </tr>\n",
       "    <tr>\n",
       "      <th>2</th>\n",
       "      <td>1</td>\n",
       "      <td>Taylor Swift concert attendees beware !! Airbn...</td>\n",
       "      <td>2024-11-04T03:37:39.000Z</td>\n",
       "    </tr>\n",
       "    <tr>\n",
       "      <th>3</th>\n",
       "      <td>1</td>\n",
       "      <td>I booked a place for two nights for $350 and h...</td>\n",
       "      <td>2024-11-03T05:39:21.000Z</td>\n",
       "    </tr>\n",
       "    <tr>\n",
       "      <th>4</th>\n",
       "      <td>1</td>\n",
       "      <td>Airbnb is absolute TRASH. We stayed at a host ...</td>\n",
       "      <td>2024-11-02T10:55:23.000Z</td>\n",
       "    </tr>\n",
       "  </tbody>\n",
       "</table>\n",
       "</div>"
      ],
      "text/plain": [
       "   rating                                               text  \\\n",
       "0       1  AirBnB is a horrible, untrustworthy service. T...   \n",
       "1       1  We rented a beautiful villa in Ostuni Italy ad...   \n",
       "2       1  Taylor Swift concert attendees beware !! Airbn...   \n",
       "3       1  I booked a place for two nights for $350 and h...   \n",
       "4       1  Airbnb is absolute TRASH. We stayed at a host ...   \n",
       "\n",
       "                       date  \n",
       "0  2024-11-04T02:50:46.000Z  \n",
       "1  2024-11-04T05:34:12.000Z  \n",
       "2  2024-11-04T03:37:39.000Z  \n",
       "3  2024-11-03T05:39:21.000Z  \n",
       "4  2024-11-02T10:55:23.000Z  "
      ]
     },
     "execution_count": 2,
     "metadata": {},
     "output_type": "execute_result"
    }
   ],
   "source": [
    "file = './trustpilot_airbnb.csv'\n",
    "data = pd.read_csv(file)\n",
    "data.head()"
   ]
  }
 ],
 "metadata": {
  "kernelspec": {
   "display_name": "base",
   "language": "python",
   "name": "python3"
  },
  "language_info": {
   "codemirror_mode": {
    "name": "ipython",
    "version": 3
   },
   "file_extension": ".py",
   "mimetype": "text/x-python",
   "name": "python",
   "nbconvert_exporter": "python",
   "pygments_lexer": "ipython3",
   "version": "3.11.5"
  }
 },
 "nbformat": 4,
 "nbformat_minor": 2
}
